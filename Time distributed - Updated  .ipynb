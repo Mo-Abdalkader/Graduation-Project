{
 "cells": [
  {
   "cell_type": "markdown",
   "id": "75619dd6",
   "metadata": {},
   "source": [
    "#### "
   ]
  },
  {
   "cell_type": "markdown",
   "id": "84b5e5ab",
   "metadata": {},
   "source": [
    "# Evaluation Metrics."
   ]
  },
  {
   "cell_type": "markdown",
   "id": "d0d1a99b",
   "metadata": {},
   "source": [
    "### Evaluation Metrics are used to evaluate our models by calculating its accuracy or its loss in different ways, I'll go over a few of them\n",
    "\n",
    "### 1- Mean absolute error (MAE) -> This is a loss function \n",
    "#### Calculated by ∑ |output - predicted value| / samples_number\n",
    "\n",
    "### 2- Mean absolute percentage error (MAPE) -> This is a loss function \n",
    "#### Calculated by ∑ |100*(output - predicted value)/output| / samples_number\n",
    "\n",
    "### 3- Mean squared error (MSE)  -> This is a loss function\n",
    "#### Calculated by ∑ (output - predicted value)^2 / samples_number\n",
    "\n",
    "### 4- Root mean squared error (RMSE)  -> This is a loss function\n",
    "#### Calculated by ∑ sqrt((output - predicted value)^2) / samples_number\n",
    "\n",
    "### 5- Root mean squared logarithmic error (RMSLE) -> This is a loss function\n",
    "#### Calculated by ∑ log(sqrt((output - predicted value)^2)) / samples_number\n",
    "\n",
    "### 6- Coefficient of determination (R2) -> This is an accuracy function\n",
    "### \n",
    "### Others functions ...\n",
    "#### 7- Symmetric mean absolute percentage error (sMAPE)\n",
    "#### 8- Mean absolute scaled error (MASE) \n",
    "#### 9- Mean squared prediction error (MSPE)\n",
    "#### 10- Mean directional accuracy (MDA) \n",
    "#### 11- Median absolute deviation (MAD)\n",
    "\n",
    "#### I have not found functions from 7:11 in sklearn so i'm not sure if they are built-in or can be calculated manually\n",
    "\n",
    "\n",
    "##### ref : https://www.analyticsvidhya.com/blog/2021/05/know-the-best-evaluation-metrics-for-your-regression-model/\n",
    "##### ref : https://en.wikipedia.org/wiki/Mean_absolute_percentage_error\n"
   ]
  },
  {
   "cell_type": "markdown",
   "id": "9a3eed1c",
   "metadata": {},
   "source": [
    "### Import libraries"
   ]
  },
  {
   "cell_type": "code",
   "execution_count": 2,
   "id": "6bb9dcbf",
   "metadata": {},
   "outputs": [],
   "source": [
    "import numpy as np\n",
    "import pandas as pd\n",
    "\n",
    "from pandas import concat\n",
    "from pandas import DataFrame\n",
    "\n",
    "from sklearn.preprocessing import MinMaxScaler\n",
    "\n",
    "from tensorflow.keras import callbacks\n",
    "from tensorflow.keras.callbacks import * \n",
    "from tensorflow.keras.models import Model , Sequential\n",
    "from tensorflow.keras.layers import Input,Conv2D,Conv3D ,TimeDistributed\n",
    "\n",
    "from numpy import array\n",
    "from numpy import split\n",
    "from pandas import read_csv\n",
    "from keras.layers import LSTM ,Dense,Flatten , TimeDistributed\n",
    "from keras.layers import RepeatVector\n",
    "\n",
    "from math import sqrt\n",
    "from math import log\n",
    "from sklearn.metrics import r2_score\n",
    "from sklearn.metrics import mean_squared_error\n",
    "from sklearn.metrics import mean_absolute_error\n",
    "from sklearn.metrics import mean_absolute_percentage_error"
   ]
  },
  {
   "cell_type": "markdown",
   "id": "05cc74a2",
   "metadata": {},
   "source": [
    "### Data preprocessing"
   ]
  },
  {
   "cell_type": "code",
   "execution_count": 3,
   "id": "1b44bd3a",
   "metadata": {},
   "outputs": [],
   "source": [
    "df = pd.read_csv('household_power_consumption  new  .csv',parse_dates=['datetime'], index_col= 'datetime')"
   ]
  },
  {
   "cell_type": "code",
   "execution_count": 4,
   "id": "ede409a5",
   "metadata": {},
   "outputs": [
    {
     "data": {
      "text/html": [
       "<div>\n",
       "<style scoped>\n",
       "    .dataframe tbody tr th:only-of-type {\n",
       "        vertical-align: middle;\n",
       "    }\n",
       "\n",
       "    .dataframe tbody tr th {\n",
       "        vertical-align: top;\n",
       "    }\n",
       "\n",
       "    .dataframe thead th {\n",
       "        text-align: right;\n",
       "    }\n",
       "</style>\n",
       "<table border=\"1\" class=\"dataframe\">\n",
       "  <thead>\n",
       "    <tr style=\"text-align: right;\">\n",
       "      <th></th>\n",
       "      <th>Global_active_power</th>\n",
       "      <th>Global_reactive_power</th>\n",
       "      <th>Voltage</th>\n",
       "      <th>Global_intensity</th>\n",
       "      <th>Sub_metering_1</th>\n",
       "      <th>Sub_metering_2</th>\n",
       "      <th>Sub_metering_3</th>\n",
       "      <th>sub_metering_4</th>\n",
       "    </tr>\n",
       "    <tr>\n",
       "      <th>datetime</th>\n",
       "      <th></th>\n",
       "      <th></th>\n",
       "      <th></th>\n",
       "      <th></th>\n",
       "      <th></th>\n",
       "      <th></th>\n",
       "      <th></th>\n",
       "      <th></th>\n",
       "    </tr>\n",
       "  </thead>\n",
       "  <tbody>\n",
       "    <tr>\n",
       "      <th>2006-12-17 00:00:00</th>\n",
       "      <td>1.044</td>\n",
       "      <td>0.152</td>\n",
       "      <td>242.73</td>\n",
       "      <td>4.4</td>\n",
       "      <td>0.0</td>\n",
       "      <td>2.0</td>\n",
       "      <td>0.0</td>\n",
       "      <td>15.400000</td>\n",
       "    </tr>\n",
       "    <tr>\n",
       "      <th>2006-12-17 00:01:00</th>\n",
       "      <td>1.520</td>\n",
       "      <td>0.220</td>\n",
       "      <td>242.20</td>\n",
       "      <td>7.4</td>\n",
       "      <td>0.0</td>\n",
       "      <td>1.0</td>\n",
       "      <td>0.0</td>\n",
       "      <td>24.333334</td>\n",
       "    </tr>\n",
       "    <tr>\n",
       "      <th>2006-12-17 00:02:00</th>\n",
       "      <td>3.038</td>\n",
       "      <td>0.194</td>\n",
       "      <td>240.14</td>\n",
       "      <td>12.6</td>\n",
       "      <td>0.0</td>\n",
       "      <td>2.0</td>\n",
       "      <td>0.0</td>\n",
       "      <td>48.633335</td>\n",
       "    </tr>\n",
       "    <tr>\n",
       "      <th>2006-12-17 00:03:00</th>\n",
       "      <td>2.974</td>\n",
       "      <td>0.194</td>\n",
       "      <td>239.97</td>\n",
       "      <td>12.4</td>\n",
       "      <td>0.0</td>\n",
       "      <td>1.0</td>\n",
       "      <td>0.0</td>\n",
       "      <td>48.566666</td>\n",
       "    </tr>\n",
       "    <tr>\n",
       "      <th>2006-12-17 00:04:00</th>\n",
       "      <td>2.846</td>\n",
       "      <td>0.198</td>\n",
       "      <td>240.39</td>\n",
       "      <td>11.8</td>\n",
       "      <td>0.0</td>\n",
       "      <td>2.0</td>\n",
       "      <td>0.0</td>\n",
       "      <td>45.433334</td>\n",
       "    </tr>\n",
       "  </tbody>\n",
       "</table>\n",
       "</div>"
      ],
      "text/plain": [
       "                     Global_active_power  Global_reactive_power  Voltage  \\\n",
       "datetime                                                                   \n",
       "2006-12-17 00:00:00                1.044                  0.152   242.73   \n",
       "2006-12-17 00:01:00                1.520                  0.220   242.20   \n",
       "2006-12-17 00:02:00                3.038                  0.194   240.14   \n",
       "2006-12-17 00:03:00                2.974                  0.194   239.97   \n",
       "2006-12-17 00:04:00                2.846                  0.198   240.39   \n",
       "\n",
       "                     Global_intensity  Sub_metering_1  Sub_metering_2  \\\n",
       "datetime                                                                \n",
       "2006-12-17 00:00:00               4.4             0.0             2.0   \n",
       "2006-12-17 00:01:00               7.4             0.0             1.0   \n",
       "2006-12-17 00:02:00              12.6             0.0             2.0   \n",
       "2006-12-17 00:03:00              12.4             0.0             1.0   \n",
       "2006-12-17 00:04:00              11.8             0.0             2.0   \n",
       "\n",
       "                     Sub_metering_3  sub_metering_4  \n",
       "datetime                                             \n",
       "2006-12-17 00:00:00             0.0       15.400000  \n",
       "2006-12-17 00:01:00             0.0       24.333334  \n",
       "2006-12-17 00:02:00             0.0       48.633335  \n",
       "2006-12-17 00:03:00             0.0       48.566666  \n",
       "2006-12-17 00:04:00             0.0       45.433334  "
      ]
     },
     "execution_count": 4,
     "metadata": {},
     "output_type": "execute_result"
    }
   ],
   "source": [
    "df.head()"
   ]
  },
  {
   "cell_type": "markdown",
   "id": "6757ee7c",
   "metadata": {},
   "source": [
    "### data preparation"
   ]
  },
  {
   "cell_type": "code",
   "execution_count": 5,
   "id": "bbdd7c72",
   "metadata": {},
   "outputs": [],
   "source": [
    "def train_test_split(df):\n",
    "    \n",
    "    # compute split point\n",
    "    end_idx = df.shape[0]* 70 // 100\n",
    "    \n",
    "    train_data = df.iloc[:end_idx, : ]\n",
    "    test_data = df.iloc[end_idx:, :]\n",
    "    \n",
    "    return train_data, test_data\n",
    "\n",
    "train, test = train_test_split(df.iloc[:1000,:])"
   ]
  },
  {
   "cell_type": "code",
   "execution_count": 6,
   "id": "73603c9e",
   "metadata": {},
   "outputs": [],
   "source": [
    "def scale_data(train, test):\n",
    "    scaler = MinMaxScaler().fit(train)\n",
    "    return scaler.transform(train), scaler.transform(test), scaler\n",
    "\n",
    "train_scaled , test_scaled , scaler = scale_data(train, test)"
   ]
  },
  {
   "cell_type": "code",
   "execution_count": 7,
   "id": "6a00da96",
   "metadata": {},
   "outputs": [],
   "source": [
    "def convert_to_supervised(df):\n",
    "\n",
    "    input_features = []\n",
    "    ouput_feature = []\n",
    "    \n",
    "    len_df = df.shape[0]\n",
    "    \n",
    "    for i in range(len_df):\n",
    "        \n",
    "        end_idx = i + 1 \n",
    "        \n",
    "        if end_idx > len_df-1:\n",
    "            break\n",
    "            \n",
    "        input_x , output_y = df[i:end_idx, 1:], df[end_idx: end_idx+1, 0]\n",
    "        \n",
    "        input_features.append(input_x)\n",
    "        ouput_feature.append(output_y)\n",
    "    \n",
    "    return np.array(input_features), np.mean(np.array(ouput_feature), axis=1)"
   ]
  },
  {
   "cell_type": "code",
   "execution_count": 8,
   "id": "28bbcc1b",
   "metadata": {},
   "outputs": [
    {
     "name": "stdout",
     "output_type": "stream",
     "text": [
      "X_train shape -> (699, 1, 7)\n",
      "y_train shape -> (699,)\n"
     ]
    }
   ],
   "source": [
    "X_train, y_train = convert_to_supervised(train_scaled)\n",
    "print(f\"X_train shape -> {X_train.shape}\\ny_train shape -> {y_train.shape}\")"
   ]
  },
  {
   "cell_type": "code",
   "execution_count": 9,
   "id": "814bf567",
   "metadata": {},
   "outputs": [
    {
     "name": "stdout",
     "output_type": "stream",
     "text": [
      "X_test shape -> (299, 1, 7)\n",
      "y_test shape -> (299,)\n"
     ]
    }
   ],
   "source": [
    "X_test, y_test = convert_to_supervised(test_scaled)\n",
    "print(f\"X_test shape -> {X_test.shape}\\ny_test shape -> {y_test.shape}\")"
   ]
  },
  {
   "cell_type": "markdown",
   "id": "ef82c515",
   "metadata": {},
   "source": [
    "## Time Distributed"
   ]
  },
  {
   "cell_type": "code",
   "execution_count": 10,
   "id": "282fdb5d",
   "metadata": {},
   "outputs": [
    {
     "name": "stdout",
     "output_type": "stream",
     "text": [
      "{'verbose': 0, 'epochs': 500, 'steps': 7} \n",
      "\n",
      "Mean absolute error ----------->  0.07836752525399295\n",
      "Mean squared error ------------>  0.00855826682064903\n",
      "Root mean squared error ------->  0.09251090109089323\n",
      "Root mean squared log error ---> -2.3804287917762017\n"
     ]
    }
   ],
   "source": [
    "def build_model(train , epochs = 500 , batch_size = 100 , verbose = 0):\n",
    "    \n",
    "    n_timesteps = X_train.shape[1] \n",
    "    n_features = X_train.shape[2]\n",
    "    n_outputs = 1\n",
    "        \n",
    "    model = Sequential()\n",
    "    model.add(TimeDistributed(Dense(200,input_shape=(n_timesteps, n_features), activation='relu')))\n",
    "    model.add(TimeDistributed(Dense(1)))\n",
    "    \n",
    "    model.compile(loss='mean_squared_error', optimizer='adam')\n",
    "    \n",
    "    callback = callbacks.EarlyStopping(monitor='loss', patience=5)\n",
    "    \n",
    "    info = model.fit(X_train, y_train, epochs=epochs, batch_size=batch_size, verbose=verbose,shuffle=False , callbacks = callback)\n",
    "    return model , info\n",
    "    \n",
    "y_train = y_train.reshape((y_train.shape[0], 1, 1))\n",
    "model , info = build_model(X_train)\n",
    "y_pred = model.predict(X_test, batch_size = 200, verbose = 0)\n",
    "\n",
    "print(info.params,\"\\n\")\n",
    "print(\"Mean absolute error -----------> \", mean_absolute_error( y_test.flatten() , y_pred.flatten() ))\n",
    "print(\"Mean squared error ------------> \", mean_squared_error( y_test.flatten() , y_pred.flatten() ))\n",
    "print(\"Root mean squared error -------> \", sqrt(mean_squared_error( y_test.flatten() , y_pred.flatten()) ))\n",
    "print(\"Root mean squared log error ---> \", log(sqrt(mean_squared_error( y_test.flatten() , y_pred.flatten()) )),sep=\"\")"
   ]
  },
  {
   "cell_type": "markdown",
   "id": "913ae72a",
   "metadata": {},
   "source": [
    "#### "
   ]
  },
  {
   "cell_type": "code",
   "execution_count": null,
   "id": "25476e0c",
   "metadata": {},
   "outputs": [],
   "source": [
    "\"\"\"\n",
    "class TimeDistributed(Model):\n",
    "    def __init__(self):\n",
    "        super(TimeDistributed,self).__init__()\n",
    "        \n",
    "        self.timedistributed1 = TimeDistributed()\n",
    "        self.timedistributed2 = TimeDistributed()\n",
    "    \n",
    "        self.dence1 = Dense(100, activation='relu')\n",
    "        self.dence2 = Dense(1)\n",
    "    \n",
    "    def call(self,inputs):\n",
    "        x = self.timedistributed1(inputs,dence1)\n",
    "        x = self.timedistributed2(x)\n",
    "        x = x(sef.dence2)\n",
    "        return x\n",
    "    \n",
    "\n",
    "input_layer = Input(shape= (n_timesteps, n_features))\n",
    "x = TimeDistributed()(input_layer)\n",
    "model = Model(inputs = input_layer , outputs= x)\n",
    "\n",
    "\n",
    "# Kenral dead!\n",
    "\n",
    "\"\"\""
   ]
  }
 ],
 "metadata": {
  "kernelspec": {
   "display_name": "Python 3 (ipykernel)",
   "language": "python",
   "name": "python3"
  },
  "language_info": {
   "codemirror_mode": {
    "name": "ipython",
    "version": 3
   },
   "file_extension": ".py",
   "mimetype": "text/x-python",
   "name": "python",
   "nbconvert_exporter": "python",
   "pygments_lexer": "ipython3",
   "version": "3.9.7"
  }
 },
 "nbformat": 4,
 "nbformat_minor": 5
}
